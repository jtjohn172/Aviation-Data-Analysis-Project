{
 "cells": [
  {
   "attachments": {},
   "cell_type": "markdown",
   "metadata": {},
   "source": [
    "# **Aviation Industry Risk Analysis**"
   ]
  },
  {
   "attachments": {},
   "cell_type": "markdown",
   "metadata": {},
   "source": [
    "### **Overview**"
   ]
  },
  {
   "attachments": {},
   "cell_type": "markdown",
   "metadata": {},
   "source": [
    "This project analyzes which aircrafts have the lowest risk for Peanut Butter INC. to enter the commercial and private enterprises industry. We are making our recommendation based on 90,000 incident records over the past 70 years.\n",
    "\n",
    "\n"
   ]
  },
  {
   "attachments": {},
   "cell_type": "markdown",
   "metadata": {},
   "source": [
    "### **Business Problem**"
   ]
  },
  {
   "attachments": {},
   "cell_type": "markdown",
   "metadata": {},
   "source": [
    "Peanut Butter INC. is expanding in to new industries to diversify its portfolio. They are interested in purchasing and operating airplanes for commercial and private enterprises, but do not know anything about the potential risks of aircraft.\n",
    "\n",
    "We are charged with determining which aircraft are the lowest risk for the company to start this new business endeavor."
   ]
  },
  {
   "attachments": {},
   "cell_type": "markdown",
   "metadata": {},
   "source": [
    "### **Data Understanding**"
   ]
  },
  {
   "attachments": {},
   "cell_type": "markdown",
   "metadata": {},
   "source": [
    "In the data folder is a dataset from the National Transportation Safety Board that includes aviation accident data from 1962 to 2023 about civil aviation accidents and selected incidents in the United States and international waters."
   ]
  },
  {
   "attachments": {},
   "cell_type": "markdown",
   "metadata": {},
   "source": [
    "# **Importing Packages**\n",
    "\n",
    "---"
   ]
  },
  {
   "cell_type": "code",
   "execution_count": 50,
   "metadata": {},
   "outputs": [],
   "source": [
    "import pandas as pd\n",
    "import numpy as np\n",
    "import matplotlib.pyplot as plt \n",
    "import seaborn as sns"
   ]
  },
  {
   "attachments": {},
   "cell_type": "markdown",
   "metadata": {},
   "source": [
    "# **Importing Project Data**\n",
    "\n",
    "---"
   ]
  },
  {
   "cell_type": "code",
   "execution_count": 51,
   "metadata": {},
   "outputs": [],
   "source": [
    "# Importing Avaiation_Data.csv:\n",
    "df = pd.read_csv('data/Aviation_Data.csv', encoding='latin-1', low_memory=False)"
   ]
  },
  {
   "attachments": {},
   "cell_type": "markdown",
   "metadata": {},
   "source": [
    "Checking:  \n",
    "- .head() \n",
    "- .tail()\n",
    "- .info()"
   ]
  },
  {
   "cell_type": "code",
   "execution_count": null,
   "metadata": {},
   "outputs": [],
   "source": [
    "df.head()"
   ]
  },
  {
   "cell_type": "code",
   "execution_count": null,
   "metadata": {},
   "outputs": [],
   "source": [
    "df.tail()"
   ]
  },
  {
   "cell_type": "code",
   "execution_count": 61,
   "metadata": {
    "scrolled": true
   },
   "outputs": [
    {
     "name": "stdout",
     "output_type": "stream",
     "text": [
      "<class 'pandas.core.frame.DataFrame'>\n",
      "Int64Index: 23335 entries, 51802 to 90226\n",
      "Data columns (total 19 columns):\n",
      " #   Column                  Non-Null Count  Dtype         \n",
      "---  ------                  --------------  -----         \n",
      " 0   location                23335 non-null  object        \n",
      " 1   investigation_type      23335 non-null  object        \n",
      " 2   event_date              23335 non-null  datetime64[ns]\n",
      " 3   country                 23335 non-null  object        \n",
      " 4   injury_severity         23335 non-null  object        \n",
      " 5   aircraft_category       23335 non-null  object        \n",
      " 6   make                    23335 non-null  object        \n",
      " 7   model                   23335 non-null  object        \n",
      " 8   number_of_engines       23335 non-null  float64       \n",
      " 9   engine_type             23335 non-null  object        \n",
      " 10  total_fatal_injuries    23335 non-null  float64       \n",
      " 11  total_uninjured         23335 non-null  float64       \n",
      " 12  total_serious_injuries  23335 non-null  float64       \n",
      " 13  total_minor_injuries    23335 non-null  float64       \n",
      " 14  latitude                23335 non-null  object        \n",
      " 15  longitude               23335 non-null  object        \n",
      " 16  amateur_built           23335 non-null  object        \n",
      " 17  city                    23335 non-null  object        \n",
      " 18  state                   23335 non-null  object        \n",
      "dtypes: datetime64[ns](1), float64(5), object(13)\n",
      "memory usage: 3.6+ MB\n"
     ]
    }
   ],
   "source": [
    "df.info()"
   ]
  },
  {
   "attachments": {},
   "cell_type": "markdown",
   "metadata": {},
   "source": [
    "# **General Data Cleaning**\n",
    "\n",
    "---"
   ]
  },
  {
   "attachments": {},
   "cell_type": "markdown",
   "metadata": {},
   "source": [
    "Baseline Changes to Aviation_Data:"
   ]
  },
  {
   "cell_type": "code",
   "execution_count": 52,
   "metadata": {},
   "outputs": [],
   "source": [
    "# Clean column names, replacing . to _ and making them lowercase\n",
    "df = df.rename(columns={c: c.lower().replace('.', '_') for c in df.columns})\n",
    "\n",
    "# Fortmating all object columns lowercase\n",
    "df['make'] = df['make'].str.lower()\n",
    "df['model'] = df['model'].str.lower()\n",
    "df['location'] = df['location'].str.lower()\n",
    "df['investigation_type'] = df['investigation_type'].str.lower()\n",
    "df['country'] = df['country'].str.lower()\n",
    "df['injury_severity'] = df['injury_severity'].str.lower()\n",
    "df['aircraft_category'] = df['aircraft_category'].str.lower()\n",
    "df['engine_type'] = df['engine_type'].str.lower()\n",
    "df['amateur_built'] = df['amateur_built'].str.lower()\n",
    "\n",
    "#dropping the columns we will not be using\n",
    "df = df[['location','investigation_type','event_date','country',\n",
    "         'injury_severity','aircraft_category','make',\n",
    "         'model','number_of_engines','engine_type','total_fatal_injuries',\n",
    "         'total_uninjured','total_serious_injuries','total_minor_injuries',\n",
    "         'latitude','longitude','amateur_built']]\n",
    "\n",
    "# Convert event_date column to datetime format\n",
    "df['event_date'] = pd.to_datetime(df['event_date'])\n",
    "\n",
    "# We will be looking at data from 2001 to 2022\n",
    "df = df[df['event_date'] > '2001-11-19']\n",
    "\n",
    "# Creating a new dataframe with data from the US\n",
    "df = df[df['country'] == 'united states']\n",
    "\n",
    "# Split location column into city and state columns + Cleaning format\n",
    "df[['city', 'state']] = df['location'].str.split(', ', n=1, expand=True)\n",
    "df['city'] = df['city'].str.lower()\n",
    "df['state'] = df['state'].str.lower()\n",
    "\n",
    "# Droping 7 missing null values in location\n",
    "df.dropna(subset=['location'], inplace=True)\n",
    "\n",
    "# populating injury_severity based on fatalities =/or/!= 0\n",
    "df.loc[(df['total_fatal_injuries'] == 0) & (df['injury_severity'].isna()), 'injury_severity'] = 'non-fatal'\n",
    "df.loc[(df['total_fatal_injuries'] != 0) & (df['injury_severity'].isna()), 'injury_severity'] = 'fatal'\n",
    "\n",
    "######injury_sevarity values isolated to fatal & non-fatal\n",
    "df.loc[~df['injury_severity'].isin(['fatal', 'non-fatal']), 'injury_severity'] = 'non-fatal'\n",
    "\n",
    "\n",
    "# Cleaning amateur_built formatting + filtering to NOT amateur built\n",
    "df = df[df['amateur_built'] == 'no']\n",
    "\n",
    "# Droping 9 missing values in Make/Model + cleaning data\n",
    "df.dropna(subset=['make'], inplace=True)\n",
    "df.dropna(subset=['model'], inplace=True)\n",
    "\n",
    "# Adding placeholder in 'state' for missing values = 'unknown' \n",
    "df['state'] = df['state'].fillna('unknown')\n",
    "\n",
    "# Adding placeholder in 'longitude' & 'latitude' for missing values = 'unknown' \n",
    "df['longitude'] = df['longitude'].fillna('unknown')\n",
    "df['latitude'] = df['latitude'].fillna('unknown')\n",
    "\n",
    "# Dropping 883 missing values in number_of_engines + number_of_engines >= 1\n",
    "df.dropna(subset=['number_of_engines'], inplace=True)\n",
    "df = df[df['number_of_engines'] >= 1]\n",
    "\n",
    "# Cleaning 'aircraft_category' with null values\n",
    "engine_types = ['reciprocating', 'turbo prop', 'turbo fan', 'turbo jet']\n",
    "df.loc[(df['aircraft_category'].isnull()) & (df['engine_type'].isin(engine_types)), 'aircraft_category'] = 'airplane'\n",
    "\n",
    "# Dropping everything except 'Airplane' in engine_type\n",
    "df.loc[~df['engine_type'].isin(engine_types), 'engine_type'] = np.nan\n",
    "df.dropna(subset=['engine_type'], inplace=True)\n",
    "\n",
    "# Filling missing value in total_fatal_injuries, total_serious_injuries, and total_minor_injuries\n",
    "df['total_fatal_injuries'] = df['total_fatal_injuries'].fillna(0)\n",
    "df['total_serious_injuries'] = df['total_serious_injuries'].fillna(0)\n",
    "df['total_minor_injuries'] = df['total_minor_injuries'].fillna(0)\n",
    "df['total_uninjured'] = df['total_minor_injuries'].fillna(0)\n"
   ]
  },
  {
   "cell_type": "code",
   "execution_count": 53,
   "metadata": {},
   "outputs": [
    {
     "data": {
      "text/plain": [
       "state                     0\n",
       "number_of_engines         0\n",
       "investigation_type        0\n",
       "event_date                0\n",
       "country                   0\n",
       "injury_severity           0\n",
       "aircraft_category         0\n",
       "make                      0\n",
       "model                     0\n",
       "engine_type               0\n",
       "city                      0\n",
       "total_fatal_injuries      0\n",
       "total_uninjured           0\n",
       "total_serious_injuries    0\n",
       "total_minor_injuries      0\n",
       "latitude                  0\n",
       "longitude                 0\n",
       "amateur_built             0\n",
       "location                  0\n",
       "dtype: int64"
      ]
     },
     "execution_count": 53,
     "metadata": {},
     "output_type": "execute_result"
    }
   ],
   "source": [
    "df.isna().sum().sort_values(ascending=False)"
   ]
  },
  {
   "attachments": {},
   "cell_type": "markdown",
   "metadata": {},
   "source": [
    "# **Indivudal Dataframes for Analysis**"
   ]
  },
  {
   "cell_type": "code",
   "execution_count": 54,
   "metadata": {},
   "outputs": [],
   "source": [
    "#Jimmy df\n",
    "private_df = df"
   ]
  },
  {
   "cell_type": "code",
   "execution_count": 55,
   "metadata": {},
   "outputs": [],
   "source": [
    "# Stuart df\n",
    "geo_df = df"
   ]
  },
  {
   "cell_type": "code",
   "execution_count": 56,
   "metadata": {},
   "outputs": [],
   "source": [
    "#Jordan df\n",
    "commercial_df = df"
   ]
  },
  {
   "attachments": {},
   "cell_type": "markdown",
   "metadata": {},
   "source": [
    "# **Private Plane Analysis**\n",
    "\n",
    "---"
   ]
  },
  {
   "cell_type": "code",
   "execution_count": null,
   "metadata": {},
   "outputs": [],
   "source": [
    "## Research:\n",
    "# Reciprocating = Yes; some are / aren't\n",
    "# Turbo Prop = No\n",
    "# Turbo Fan = Yes; some are / aren't\n",
    "# Delete: Unknown, Turbo Shaft, Electric, UNK\n",
    "\n",
    "\n",
    "commercial_df = commercial_df[(commercial_df['engine_type'] == 'Reciprocating') | (commercial_df['engine_type'] == 'Turbo Fan')]\n",
    "commercial_df['engine_type'].value_counts()\n"
   ]
  },
  {
   "cell_type": "code",
   "execution_count": null,
   "metadata": {},
   "outputs": [],
   "source": [
    "#Creating a figure showing investigation occurance by Airplane Make\n",
    "fig, ax=plt.subplots(figsize=(16,9))\n",
    "sns.set_style('darkgrid')\n",
    "makes=sns.barplot(data=private_planes, x=private_planes['make'].value_counts().index[:20], y=private_planes['make'].value_counts().values[:20])\n",
    "makes.set_title('20 Most Frequent Airplane Makes Found in Investigations')\n",
    "makes.set_xlabel('Make', fontsize=15)\n",
    "makes.set_ylabel('Number of Occurrences', fontsize=15)\n",
    "makes.set_xticklabels(private_planes['make'].value_counts().index[:20], rotation=-45, ha='left');\n",
    "plt.show()\n",
    "\n",
    "#Showing fatalities by Airplane Make\n",
    "fatalities=private_planes.groupby('make')['total_fatal_injuries'].sum().sort_values(ascending=False)\n",
    "fig, ax=plt.subplots(figsize=(16,9))\n",
    "sns.set_style('darkgrid')\n",
    "f=sns.barplot(data=private_planes, x=fatalities.index[:20], y=fatalities.values[:20])\n",
    "f.set_title('Fatalities by Airplane Make', fontsize=15)\n",
    "f.set_xlabel('Make', fontsize=15)\n",
    "f.set_ylabel('Fatalities', fontsize=15)\n",
    "f.set_xticklabels(fatalities.index[:20], rotation=-45, ha='left');\n",
    "plt.show()\n",
    "\n",
    "\n",
    "#Creating a figure showing investigation frequnecy by Airplane Model\n",
    "fig, ax=plt.subplots(figsize=(16,9))\n",
    "sns.set_style('darkgrid')\n",
    "makes=sns.barplot(data=private_planes, x=private_planes['model'].value_counts().index[:20], y=private_planes['model'].value_counts().values[:20])\n",
    "makes.set_title('20 Most Frequent Airplane Models Found in Accidents', fontsize=15)\n",
    "makes.set_xlabel('Model', fontsize=15)\n",
    "makes.set_ylabel('Number of Occurrences', fontsize=15)\n",
    "makes.set_xticklabels(private_planes['model'].value_counts().index[:20], rotation=-45, ha='center');\n",
    "plt.show()\n",
    "\n",
    "#Showing fatalities by Airplane Model\n",
    "fatalities=private_planes.groupby('model')['total_fatal_injuries'].sum().sort_values(ascending=False)\n",
    "fig, ax=plt.subplots(figsize=(16,9))\n",
    "sns.set_style('darkgrid')\n",
    "f=sns.barplot(data=private_planes, x=fatalities.index[:20], y=fatalities.values[:20])\n",
    "f.set_title('Fatalities by Airplane Model', fontsize=15)\n",
    "f.set_xlabel('Model', fontsize=15)\n",
    "f.set_ylabel('Fatalities', fontsize=15)\n",
    "f.set_xticklabels(fatalities.index[:20], rotation=-45, ha='left');\n",
    "plt.show()"
   ]
  },
  {
   "attachments": {},
   "cell_type": "markdown",
   "metadata": {},
   "source": [
    "# **Commerical Plane Analysis**\n",
    "\n",
    "---"
   ]
  },
  {
   "attachments": {},
   "cell_type": "markdown",
   "metadata": {},
   "source": [
    "Filtering to Commercial Planes only"
   ]
  },
  {
   "cell_type": "code",
   "execution_count": 57,
   "metadata": {},
   "outputs": [],
   "source": [
    "## Research:\n",
    "# Reciprocating = Yes; some are / aren't\n",
    "# Turbo Prop = No\n",
    "# Turbo Fan = Yes; some are / aren't\n",
    "# Delete: Unknown, Turbo Shaft, Electric, UNK\n",
    "\n",
    "\n",
    "# Identifying which **engine_type** is used for commercial planes and filtering accordingly:\n",
    "#Only using **Reciprocating** and **Turbo Fan**:\n",
    "commercial_df = commercial_df[(commercial_df['engine_type'] == 'reciprocating') | (commercial_df['engine_type'] == 'turbo fan')]\n",
    "commercial_df['engine_type'].value_counts()\n",
    "\n",
    "# Filtering to planes with 2 or more engines:\n",
    "commercial_df = commercial_df[commercial_df['number_of_engines'] >= 2]\n",
    "commercial_df['number_of_engines'].value_counts()\n",
    "\n",
    "# Top US mnaufacters of Commercial Planes\n",
    "commercial_manufacturers = [\n",
    "    \"airbus\",\n",
    "    \"boeing\",\n",
    "    \"embraer\",\n",
    "    \"comac\",\n",
    "    \"atr\",\n",
    "    \"mcdonnell douglas\",\n",
    "    \"mcdonnell\",\n",
    "    \"tupolev\",\n",
    "    \"ilyushin\",\n",
    "]\n",
    "\n",
    "# Filtering dataframe to Commercial Planes only\n",
    "make = commercial_df['make'].isin(commercial_manufacturers)\n",
    "filtered_df = commercial_df[make]\n",
    "filtered_df['make'].value_counts()\n",
    "commercial_df = commercial_df[commercial_df['make'].isin(commercial_manufacturers)]\n",
    "\n",
    "\n",
    "# confirming all of the 'models' are indeed commercial planes:\n",
    "not_commercial = ['a75', 'a75n1', 'b75n1', 'a75n1(pt17)', 'a75n1 (pt17)', 'b75', 'e75', 'b17', 'emb-500', 'pt 17', 'n2s-3', 'a 75n1', 'a75n-1', 'd75n1', 'b-17g']\n",
    "\n",
    "# the ~ in front of df is a negation operator to \n",
    "# do the opposite of the following action:\n",
    "commercial_df = commercial_df[~commercial_df['model'].isin(not_commercial)]\n",
    "#commercial_df['model'].value_counts()"
   ]
  },
  {
   "attachments": {},
   "cell_type": "markdown",
   "metadata": {},
   "source": [
    "Determining which **models** have had the most accident/incidents and if they were fatal/non-fatal:"
   ]
  },
  {
   "cell_type": "code",
   "execution_count": 58,
   "metadata": {},
   "outputs": [
    {
     "data": {
      "image/png": "[encoded data removed]",
      "text/plain": [
       "<Figure size 1440x360 with 1 Axes>"
      ]
     },
     "metadata": {
      "needs_background": "light"
     },
     "output_type": "display_data"
    }
   ],
   "source": [
    "grouped_1 = commercial_df.groupby(['model', 'injury_severity']).size().unstack().sort_values(by='non-fatal', ascending=False).head(25)\n",
    "\n",
    "# plot\n",
    "grouped_1.plot(kind='bar', stacked=False, figsize=(20,5))\n",
    "plt.xlabel('plane model')\n",
    "plt.ylabel('count')\n",
    "plt.title('Fatal vs Non-Fatal per Model')\n",
    "\n",
    "plt.show()"
   ]
  },
  {
   "cell_type": "code",
   "execution_count": 60,
   "metadata": {},
   "outputs": [
    {
     "data": {
      "image/png": "[encoded data removed]",
      "text/plain": [
       "<Figure size 1008x432 with 1 Axes>"
      ]
     },
     "metadata": {
      "needs_background": "light"
     },
     "output_type": "display_data"
    }
   ],
   "source": [
    "grouped_2 = commercial_df.groupby(['make', 'injury_severity']).size().unstack().sort_values(by='non-fatal', ascending=False).head(25)\n",
    "\n",
    "# plot\n",
    "grouped_2.plot(kind='bar', stacked=False, figsize=(14,6))\n",
    "plt.xlabel('plane make')\n",
    "plt.ylabel('count')\n",
    "plt.title('Fatal vs Non-Fatal per Make')\n",
    "\n",
    "plt.show()"
   ]
  },
  {
   "attachments": {},
   "cell_type": "markdown",
   "metadata": {},
   "source": [
    "Identifying ALL **Fatal** situations and researching them individually:"
   ]
  },
  {
   "cell_type": "code",
   "execution_count": 65,
   "metadata": {},
   "outputs": [
    {
     "data": {
      "text/html": [
       "<div>\n",
       "<style scoped>\n",
       "    .dataframe tbody tr th:only-of-type {\n",
       "        vertical-align: middle;\n",
       "    }\n",
       "\n",
       "    .dataframe tbody tr th {\n",
       "        vertical-align: top;\n",
       "    }\n",
       "\n",
       "    .dataframe thead th {\n",
       "        text-align: right;\n",
       "    }\n",
       "</style>\n",
       "<table border=\"1\" class=\"dataframe\">\n",
       "  <thead>\n",
       "    <tr style=\"text-align: right;\">\n",
       "      <th></th>\n",
       "      <th>location</th>\n",
       "      <th>investigation_type</th>\n",
       "      <th>event_date</th>\n",
       "      <th>country</th>\n",
       "      <th>injury_severity</th>\n",
       "      <th>aircraft_category</th>\n",
       "      <th>make</th>\n",
       "      <th>model</th>\n",
       "      <th>number_of_engines</th>\n",
       "      <th>engine_type</th>\n",
       "      <th>total_fatal_injuries</th>\n",
       "      <th>total_uninjured</th>\n",
       "      <th>total_serious_injuries</th>\n",
       "      <th>total_minor_injuries</th>\n",
       "      <th>latitude</th>\n",
       "      <th>longitude</th>\n",
       "      <th>amateur_built</th>\n",
       "      <th>city</th>\n",
       "      <th>state</th>\n",
       "    </tr>\n",
       "  </thead>\n",
       "  <tbody>\n",
       "    <tr>\n",
       "      <th>74008</th>\n",
       "      <td>san francisco, ca</td>\n",
       "      <td>accident</td>\n",
       "      <td>2013-07-06</td>\n",
       "      <td>united states</td>\n",
       "      <td>fatal</td>\n",
       "      <td>airplane</td>\n",
       "      <td>boeing</td>\n",
       "      <td>777-200er</td>\n",
       "      <td>2.0</td>\n",
       "      <td>turbo fan</td>\n",
       "      <td>3.0</td>\n",
       "      <td>50.0</td>\n",
       "      <td>137.0</td>\n",
       "      <td>50.0</td>\n",
       "      <td>373648N</td>\n",
       "      <td>1222150W</td>\n",
       "      <td>no</td>\n",
       "      <td>san francisco</td>\n",
       "      <td>ca</td>\n",
       "    </tr>\n",
       "    <tr>\n",
       "      <th>74252</th>\n",
       "      <td>birmingham, al</td>\n",
       "      <td>accident</td>\n",
       "      <td>2013-08-14</td>\n",
       "      <td>united states</td>\n",
       "      <td>fatal</td>\n",
       "      <td>airplane</td>\n",
       "      <td>airbus</td>\n",
       "      <td>a300 - f4 622r</td>\n",
       "      <td>2.0</td>\n",
       "      <td>turbo fan</td>\n",
       "      <td>2.0</td>\n",
       "      <td>0.0</td>\n",
       "      <td>0.0</td>\n",
       "      <td>0.0</td>\n",
       "      <td>333350N</td>\n",
       "      <td>0086488W</td>\n",
       "      <td>no</td>\n",
       "      <td>birmingham</td>\n",
       "      <td>al</td>\n",
       "    </tr>\n",
       "    <tr>\n",
       "      <th>82061</th>\n",
       "      <td>philadelphia, pa</td>\n",
       "      <td>accident</td>\n",
       "      <td>2018-04-17</td>\n",
       "      <td>united states</td>\n",
       "      <td>fatal</td>\n",
       "      <td>airplane</td>\n",
       "      <td>boeing</td>\n",
       "      <td>737 7h4</td>\n",
       "      <td>2.0</td>\n",
       "      <td>turbo fan</td>\n",
       "      <td>1.0</td>\n",
       "      <td>8.0</td>\n",
       "      <td>125.0</td>\n",
       "      <td>8.0</td>\n",
       "      <td>395219N</td>\n",
       "      <td>0751424W</td>\n",
       "      <td>no</td>\n",
       "      <td>philadelphia</td>\n",
       "      <td>pa</td>\n",
       "    </tr>\n",
       "    <tr>\n",
       "      <th>83727</th>\n",
       "      <td>trinity bay, tx</td>\n",
       "      <td>accident</td>\n",
       "      <td>2019-02-23</td>\n",
       "      <td>united states</td>\n",
       "      <td>fatal</td>\n",
       "      <td>airplane</td>\n",
       "      <td>boeing</td>\n",
       "      <td>767</td>\n",
       "      <td>2.0</td>\n",
       "      <td>turbo fan</td>\n",
       "      <td>3.0</td>\n",
       "      <td>0.0</td>\n",
       "      <td>0.0</td>\n",
       "      <td>0.0</td>\n",
       "      <td>294612N</td>\n",
       "      <td>0943936W</td>\n",
       "      <td>no</td>\n",
       "      <td>trinity bay</td>\n",
       "      <td>tx</td>\n",
       "    </tr>\n",
       "  </tbody>\n",
       "</table>\n",
       "</div>"
      ],
      "text/plain": [
       "                location investigation_type event_date        country  \\\n",
       "74008  san francisco, ca           accident 2013-07-06  united states   \n",
       "74252     birmingham, al           accident 2013-08-14  united states   \n",
       "82061   philadelphia, pa           accident 2018-04-17  united states   \n",
       "83727    trinity bay, tx           accident 2019-02-23  united states   \n",
       "\n",
       "      injury_severity aircraft_category    make           model  \\\n",
       "74008           fatal          airplane  boeing       777-200er   \n",
       "74252           fatal          airplane  airbus  a300 - f4 622r   \n",
       "82061           fatal          airplane  boeing         737 7h4   \n",
       "83727           fatal          airplane  boeing             767   \n",
       "\n",
       "       number_of_engines engine_type  total_fatal_injuries  total_uninjured  \\\n",
       "74008                2.0   turbo fan                   3.0             50.0   \n",
       "74252                2.0   turbo fan                   2.0              0.0   \n",
       "82061                2.0   turbo fan                   1.0              8.0   \n",
       "83727                2.0   turbo fan                   3.0              0.0   \n",
       "\n",
       "       total_serious_injuries  total_minor_injuries latitude longitude  \\\n",
       "74008                   137.0                  50.0  373648N  1222150W   \n",
       "74252                     0.0                   0.0  333350N  0086488W   \n",
       "82061                   125.0                   8.0  395219N  0751424W   \n",
       "83727                     0.0                   0.0  294612N  0943936W   \n",
       "\n",
       "      amateur_built           city state  \n",
       "74008            no  san francisco    ca  \n",
       "74252            no     birmingham    al  \n",
       "82061            no   philadelphia    pa  \n",
       "83727            no    trinity bay    tx  "
      ]
     },
     "execution_count": 65,
     "metadata": {},
     "output_type": "execute_result"
    }
   ],
   "source": [
    "commercial_df.loc[commercial_df['injury_severity'] == 'fatal']"
   ]
  },
  {
   "attachments": {},
   "cell_type": "markdown",
   "metadata": {},
   "source": [
    "## Fatal Accident Context:"
   ]
  },
  {
   "attachments": {},
   "cell_type": "markdown",
   "metadata": {},
   "source": [
    "1. boeing 777-200er (2013-07-06):\n",
    "- **Pilot error**; upon landing.\n",
    "- documentation: https://aviation-safety.net/database/record.php?id=20130706-0\n",
    "\n",
    "2. airbus a300 - f4 622r (2013-08-14):\n",
    "- **Pilot error**; failure to properly configure and verify the flight management computer for the profile approach\n",
    "- documentation: https://aviation-safety.net/database/record.php?id=20130814-0\n",
    "\n",
    "3. boeing 737 7h4 (2018-04-17):\n",
    "- **metal fatigue** in the area where the blade broke in the engine.\n",
    "- documentation: https://aviation-safety.net/database/record.php?id=20180417-0\n",
    "\n",
    "4. boeing 767 (2019-02-23):\n",
    "- **Pilot error**; inappropriate response by the first officer as the pilot flying to an inadvertent activation of the go-around mode, which led to his spatial disorientation.\n",
    "- documentation: https://aviation-safety.net/database/record.php?id=20190223-0"
   ]
  },
  {
   "attachments": {},
   "cell_type": "markdown",
   "metadata": {},
   "source": [
    "# **Location of Operation Analysis**\n",
    "\n",
    "---"
   ]
  },
  {
   "cell_type": "code",
   "execution_count": null,
   "metadata": {},
   "outputs": [],
   "source": []
  }
 ],
 "metadata": {
  "kernelspec": {
   "display_name": "learn-env",
   "language": "python",
   "name": "python3"
  },
  "language_info": {
   "codemirror_mode": {
    "name": "ipython",
    "version": 3
   },
   "file_extension": ".py",
   "mimetype": "text/x-python",
   "name": "python",
   "nbconvert_exporter": "python",
   "pygments_lexer": "ipython3",
   "version": "3.8.5"
  }
 },
 "nbformat": 4,
 "nbformat_minor": 4
}
