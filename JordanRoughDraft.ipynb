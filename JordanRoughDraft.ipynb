{
 "cells": [
  {
   "attachments": {},
   "cell_type": "markdown",
   "metadata": {},
   "source": [
    "# **Aviation Industry Risk Analysis**"
   ]
  },
  {
   "attachments": {},
   "cell_type": "markdown",
   "metadata": {},
   "source": [
    "### **Overview**"
   ]
  },
  {
   "attachments": {},
   "cell_type": "markdown",
   "metadata": {},
   "source": [
    "This project analyzes which aircrafts have the lowest risk for Peanut Butter INC. to enter the commercial and private enterprises industry. We are making our recommendation based on 90,000 incident records over the past 70 years.\n",
    "\n",
    "\n"
   ]
  },
  {
   "attachments": {},
   "cell_type": "markdown",
   "metadata": {},
   "source": [
    "### **Business Problem**"
   ]
  },
  {
   "attachments": {},
   "cell_type": "markdown",
   "metadata": {},
   "source": [
    "Peanut Butter INC. is expanding in to new industries to diversify its portfolio. They are interested in purchasing and operating airplanes for commercial and private enterprises, but do not know anything about the potential risks of aircraft.\n",
    "\n",
    "We are charged with determining which aircraft are the lowest risk for the company to start this new business endeavor."
   ]
  },
  {
   "attachments": {},
   "cell_type": "markdown",
   "metadata": {},
   "source": [
    "### **Data Understanding**"
   ]
  },
  {
   "attachments": {},
   "cell_type": "markdown",
   "metadata": {},
   "source": [
    "In the data folder is a dataset from the National Transportation Safety Board that includes aviation accident data from 1962 to 2023 about civil aviation accidents and selected incidents in the United States and international waters."
   ]
  },
  {
   "attachments": {},
   "cell_type": "markdown",
   "metadata": {},
   "source": [
    "# **Importing Packages**\n",
    "\n",
    "---"
   ]
  },
  {
   "cell_type": "code",
   "execution_count": 231,
   "metadata": {},
   "outputs": [],
   "source": [
    "import pandas as pd\n",
    "import numpy as np\n",
    "import matplotlib.pyplot as plt \n",
    "import seaborn as sns"
   ]
  },
  {
   "attachments": {},
   "cell_type": "markdown",
   "metadata": {},
   "source": [
    "# **Importing Project Data**\n",
    "\n",
    "---"
   ]
  },
  {
   "cell_type": "code",
   "execution_count": 232,
   "metadata": {},
   "outputs": [],
   "source": [
    "# Importing Avaiation_Data.csv:\n",
    "df = pd.read_csv('data/Aviation_Data.csv', encoding='latin-1', low_memory=False)"
   ]
  },
  {
   "attachments": {},
   "cell_type": "markdown",
   "metadata": {},
   "source": [
    "Checking:  \n",
    "- .head() \n",
    "- .tail()\n",
    "- .info()"
   ]
  },
  {
   "cell_type": "code",
   "execution_count": null,
   "metadata": {},
   "outputs": [],
   "source": [
    "df.head()"
   ]
  },
  {
   "cell_type": "code",
   "execution_count": null,
   "metadata": {},
   "outputs": [],
   "source": [
    "df.tail()"
   ]
  },
  {
   "cell_type": "code",
   "execution_count": null,
   "metadata": {
    "scrolled": true
   },
   "outputs": [],
   "source": [
    "df.info()"
   ]
  },
  {
   "attachments": {},
   "cell_type": "markdown",
   "metadata": {},
   "source": [
    "# **General Data Cleaning**\n",
    "\n",
    "---"
   ]
  },
  {
   "attachments": {},
   "cell_type": "markdown",
   "metadata": {},
   "source": [
    "Baseline Changes to Aviation_Data:"
   ]
  },
  {
   "cell_type": "code",
   "execution_count": 242,
   "metadata": {},
   "outputs": [],
   "source": [
    "# Clean column names, replacing . to _ and making them lowercase\n",
    "df = df.rename(columns={c: c.lower().replace('.', '_') for c in df.columns})\n",
    "\n",
    "# Fortmating all object columns lowercase\n",
    "df['make'] = df['make'].str.lower()\n",
    "df['model'] = df['model'].str.lower()\n",
    "df['city'] = df['city'].str.lower()\n",
    "df['state'] = df['state'].str.lower()\n",
    "df['location'] = df['location'].str.lower()\n",
    "df['investigation_type'] = df['investigation_type'].str.lower()\n",
    "df['country'] = df['country'].str.lower()\n",
    "df['injury_severity'] = df['injury_severity'].str.lower()\n",
    "df['aircraft_category'] = df['aircraft_category'].str.lower()\n",
    "df['engine_type'] = df['engine_type'].str.lower()\n",
    "df['amateur_built'] = df['amateur_built'].str.lower()\n",
    "\n",
    "#dropping the columns we will not be using\n",
    "df = df[['location','investigation_type','event_date','country',\n",
    "         'injury_severity','aircraft_category','make',\n",
    "         'model','number_of_engines','engine_type','total_fatal_injuries',\n",
    "         'total_uninjured','total_serious_injuries','total_minor_injuries',\n",
    "         'latitude','longitude','amateur_built']]\n",
    "\n",
    "# Convert event_date column to datetime format\n",
    "df['event_date'] = pd.to_datetime(df['event_date'])\n",
    "\n",
    "# We will be looking at data from 2001 to 2022\n",
    "df = df[df['event_date'] > '2001-11-19']\n",
    "\n",
    "# Creating a new dataframe with data from the US\n",
    "df = df[df['country'] == 'united states']\n",
    "\n",
    "# Split location column into city and state columns + Cleaning format\n",
    "df[['city', 'state']] = df['location'].str.split(', ', n=1, expand=True)\n",
    "\n",
    "# Droping 7 missing null values in location\n",
    "df.dropna(subset=['location'], inplace=True)\n",
    "\n",
    "# populating injury_severity based on fatalities =/or/!= 0\n",
    "df.loc[(df['total_fatal_injuries'] == 0) & (df['injury_severity'].isna()), 'injury_severity'] = 'non-fatal'\n",
    "df.loc[(df['total_fatal_injuries'] != 0) & (df['injury_severity'].isna()), 'injury_severity'] = 'fatal'\n",
    "\n",
    "# Cleaning amateur_built formatting + filtering to NOT amateur built\n",
    "df = df[df['amateur_built'] == 'no']\n",
    "\n",
    "# Droping 9 missing values in Make/Model + cleaning data\n",
    "df.dropna(subset=['make'], inplace=True)\n",
    "df.dropna(subset=['model'], inplace=True)\n",
    "\n",
    "# Adding placeholder in 'state' for missing values = 'unknown' \n",
    "df['state'] = df['state'].fillna('unknown')\n",
    "\n",
    "# Adding placeholder in 'longitude' & 'latitude' for missing values = 'unknown' \n",
    "df['longitude'] = df['longitude'].fillna('unknown')\n",
    "df['latitude'] = df['latitude'].fillna('unknown')\n",
    "\n",
    "# Dropping 883 missing values in number_of_engines + number_of_engines >= 1\n",
    "df.dropna(subset=['number_of_engines'], inplace=True)\n",
    "df = df[df['number_of_engines'] >= 1]\n",
    "\n",
    "# Cleaning 'aircraft_category' with null values\n",
    "engine_types = ['reciprocating', 'turbo prop', 'turbo fan', 'turbo jet']\n",
    "df.loc[(df['aircraft_category'].isnull()) & (df['engine_type'].isin(engine_types)), 'aircraft_category'] = 'airplane'\n",
    "\n",
    "# Dropping everything except 'Airplane' in engine_type\n",
    "df.loc[~df['engine_type'].isin(engine_types), 'engine_type'] = np.nan\n",
    "df.dropna(subset=['engine_type'], inplace=True)\n",
    "\n",
    "# Filling missing value in total_fatal_injuries, total_serious_injuries, and total_minor_injuries\n",
    "df['total_fatal_injuries'] = df['total_fatal_injuries'].fillna(0)\n",
    "df['total_serious_injuries'] = df['total_serious_injuries'].fillna(0)\n",
    "df['total_minor_injuries'] = df['total_minor_injuries'].fillna(0)\n",
    "df['total_uninjured'] = df['total_minor_injuries'].fillna(0)\n"
   ]
  },
  {
   "cell_type": "code",
   "execution_count": 246,
   "metadata": {},
   "outputs": [
    {
     "data": {
      "text/plain": [
       "state                     0\n",
       "number_of_engines         0\n",
       "investigation_type        0\n",
       "event_date                0\n",
       "country                   0\n",
       "injury_severity           0\n",
       "aircraft_category         0\n",
       "make                      0\n",
       "model                     0\n",
       "engine_type               0\n",
       "city                      0\n",
       "total_fatal_injuries      0\n",
       "total_uninjured           0\n",
       "total_serious_injuries    0\n",
       "total_minor_injuries      0\n",
       "latitude                  0\n",
       "longitude                 0\n",
       "amateur_built             0\n",
       "location                  0\n",
       "dtype: int64"
      ]
     },
     "execution_count": 246,
     "metadata": {},
     "output_type": "execute_result"
    }
   ],
   "source": [
    "df.isna().sum().sort_values(ascending=False)"
   ]
  },
  {
   "attachments": {},
   "cell_type": "markdown",
   "metadata": {},
   "source": [
    "# **Indivudal Dataframes for visualizations**"
   ]
  },
  {
   "cell_type": "code",
   "execution_count": null,
   "metadata": {},
   "outputs": [],
   "source": [
    "#Jimmy df\n",
    "commercial_df = df\n",
    "# Stuart df"
   ]
  },
  {
   "attachments": {},
   "cell_type": "markdown",
   "metadata": {},
   "source": [
    "# **Needed?**\n",
    "\n",
    "---"
   ]
  },
  {
   "cell_type": "code",
   "execution_count": null,
   "metadata": {},
   "outputs": [],
   "source": [
    "#Cleaning the injury severity column\n",
    "usa_df['injury_severity'] = usa_df['injury_severity'].replace(regex=r'Fatal\\(\\d+\\)', value='Fatal')"
   ]
  },
  {
   "cell_type": "code",
   "execution_count": null,
   "metadata": {},
   "outputs": [],
   "source": [
    "# Import necessary libraries\n",
    "from geopy.geocoders import Nominatim\n",
    "import pandas as pd\n",
    "\n",
    "# Create geolocator object\n",
    "geolocator = Nominatim(user_agent=\"my_app\")\n",
    "\n",
    "# Loop through each row in dataframe\n",
    "for index, row in usa_df.iterrows():\n",
    "    # Check if latitude and longitude are missing\n",
    "    if pd.isnull(row['latitude']) or pd.isnull(row['longitude']):\n",
    "        # Get location string\n",
    "        location = str(row['airport_name']) + ', ' + str(row['country'])\n",
    "        # Use geolocator to get latitude and longitude\n",
    "        try:\n",
    "            location = geolocator.geocode(location)\n",
    "            usa_df.at[index, 'latitude'] = location.latitude\n",
    "            usa_df.at[index, 'longitude'] = location.longitude\n",
    "        except:\n",
    "            pass"
   ]
  },
  {
   "cell_type": "code",
   "execution_count": null,
   "metadata": {},
   "outputs": [],
   "source": [
    "usa_df.loc[usa['total_fatal_injuries'].isna(), 'total_fatal_injuries']=0\n",
    "\n",
    "minor_injuries=usa_df.loc[(usa_df['total_uninjured'].notna()) & (usa_df['total_minor_injuries'].notna())]\n",
    "minor_injuries_ratio=minor_injuries['total_minor_injuries'].sum()/minor_injuries['total_uninjured'].sum()\n",
    "\n",
    "serious_injuries=usa_df.loc[(usa_df['total_uninjured'].notna()) & (usa_df['total_serious_injuries'].notna())]\n",
    "serious_injuries_ratio=serious_injuries['total_serious_injuries'].sum()/serious_injuries['total_uninjured'].sum()\n",
    "\n",
    "usa_df.loc[usa_df['total_uninjured'].isna(), 'total_uninjured']=usa_df['total_uninjured'].median()\n",
    "usa_df.loc[us_df['total_minor_injuries'].isna(), 'total_minor_injuries']=round(minor_injuries_ratio*usa_df['total_uninjured'], 0)\n",
    "usa_df.loc[usa_df['total_serious_injuries'].isna(), 'total_serious_injuries']=round(serious_injuries_ratio*usa_df['total_uninjured'], 0)"
   ]
  },
  {
   "attachments": {},
   "cell_type": "markdown",
   "metadata": {},
   "source": [
    "# **Private Plane Analysis**\n",
    "\n",
    "---"
   ]
  },
  {
   "cell_type": "code",
   "execution_count": null,
   "metadata": {},
   "outputs": [],
   "source": []
  },
  {
   "cell_type": "code",
   "execution_count": 241,
   "metadata": {},
   "outputs": [
    {
     "ename": "NameError",
     "evalue": "name 'private_planes' is not defined",
     "output_type": "error",
     "traceback": [
      "\u001b[0;31m---------------------------------------------------------------------------\u001b[0m",
      "\u001b[0;31mNameError\u001b[0m                                 Traceback (most recent call last)",
      "\u001b[0;32m<ipython-input-241-f1ad16c819b5>\u001b[0m in \u001b[0;36m<module>\u001b[0;34m\u001b[0m\n\u001b[1;32m      2\u001b[0m \u001b[0mfig\u001b[0m\u001b[0;34m,\u001b[0m \u001b[0max\u001b[0m\u001b[0;34m=\u001b[0m\u001b[0mplt\u001b[0m\u001b[0;34m.\u001b[0m\u001b[0msubplots\u001b[0m\u001b[0;34m(\u001b[0m\u001b[0mfigsize\u001b[0m\u001b[0;34m=\u001b[0m\u001b[0;34m(\u001b[0m\u001b[0;36m16\u001b[0m\u001b[0;34m,\u001b[0m\u001b[0;36m9\u001b[0m\u001b[0;34m)\u001b[0m\u001b[0;34m)\u001b[0m\u001b[0;34m\u001b[0m\u001b[0;34m\u001b[0m\u001b[0m\n\u001b[1;32m      3\u001b[0m \u001b[0msns\u001b[0m\u001b[0;34m.\u001b[0m\u001b[0mset_style\u001b[0m\u001b[0;34m(\u001b[0m\u001b[0;34m'darkgrid'\u001b[0m\u001b[0;34m)\u001b[0m\u001b[0;34m\u001b[0m\u001b[0;34m\u001b[0m\u001b[0m\n\u001b[0;32m----> 4\u001b[0;31m \u001b[0mmakes\u001b[0m\u001b[0;34m=\u001b[0m\u001b[0msns\u001b[0m\u001b[0;34m.\u001b[0m\u001b[0mbarplot\u001b[0m\u001b[0;34m(\u001b[0m\u001b[0mdata\u001b[0m\u001b[0;34m=\u001b[0m\u001b[0mprivate_planes\u001b[0m\u001b[0;34m,\u001b[0m \u001b[0mx\u001b[0m\u001b[0;34m=\u001b[0m\u001b[0mprivate_planes\u001b[0m\u001b[0;34m[\u001b[0m\u001b[0;34m'make'\u001b[0m\u001b[0;34m]\u001b[0m\u001b[0;34m.\u001b[0m\u001b[0mvalue_counts\u001b[0m\u001b[0;34m(\u001b[0m\u001b[0;34m)\u001b[0m\u001b[0;34m.\u001b[0m\u001b[0mindex\u001b[0m\u001b[0;34m[\u001b[0m\u001b[0;34m:\u001b[0m\u001b[0;36m20\u001b[0m\u001b[0;34m]\u001b[0m\u001b[0;34m,\u001b[0m \u001b[0my\u001b[0m\u001b[0;34m=\u001b[0m\u001b[0mprivate_planes\u001b[0m\u001b[0;34m[\u001b[0m\u001b[0;34m'make'\u001b[0m\u001b[0;34m]\u001b[0m\u001b[0;34m.\u001b[0m\u001b[0mvalue_counts\u001b[0m\u001b[0;34m(\u001b[0m\u001b[0;34m)\u001b[0m\u001b[0;34m.\u001b[0m\u001b[0mvalues\u001b[0m\u001b[0;34m[\u001b[0m\u001b[0;34m:\u001b[0m\u001b[0;36m20\u001b[0m\u001b[0;34m]\u001b[0m\u001b[0;34m)\u001b[0m\u001b[0;34m\u001b[0m\u001b[0;34m\u001b[0m\u001b[0m\n\u001b[0m\u001b[1;32m      5\u001b[0m \u001b[0mmakes\u001b[0m\u001b[0;34m.\u001b[0m\u001b[0mset_title\u001b[0m\u001b[0;34m(\u001b[0m\u001b[0;34m'20 Most Frequent Airplane Makes Found in Investigations'\u001b[0m\u001b[0;34m)\u001b[0m\u001b[0;34m\u001b[0m\u001b[0;34m\u001b[0m\u001b[0m\n\u001b[1;32m      6\u001b[0m \u001b[0mmakes\u001b[0m\u001b[0;34m.\u001b[0m\u001b[0mset_xlabel\u001b[0m\u001b[0;34m(\u001b[0m\u001b[0;34m'Make'\u001b[0m\u001b[0;34m,\u001b[0m \u001b[0mfontsize\u001b[0m\u001b[0;34m=\u001b[0m\u001b[0;36m15\u001b[0m\u001b[0;34m)\u001b[0m\u001b[0;34m\u001b[0m\u001b[0;34m\u001b[0m\u001b[0m\n",
      "\u001b[0;31mNameError\u001b[0m: name 'private_planes' is not defined"
     ]
    },
    {
     "data": {
      "image/png": "[encoded data removed]",
      "text/plain": [
       "<Figure size 1152x648 with 1 Axes>"
      ]
     },
     "metadata": {
      "needs_background": "light"
     },
     "output_type": "display_data"
    }
   ],
   "source": [
    "#Creating a figure showing investigation occurance by Airplane Make\n",
    "fig, ax=plt.subplots(figsize=(16,9))\n",
    "sns.set_style('darkgrid')\n",
    "makes=sns.barplot(data=private_planes, x=private_planes['make'].value_counts().index[:20], y=private_planes['make'].value_counts().values[:20])\n",
    "makes.set_title('20 Most Frequent Airplane Makes Found in Investigations')\n",
    "makes.set_xlabel('Make', fontsize=15)\n",
    "makes.set_ylabel('Number of Occurrences', fontsize=15)\n",
    "makes.set_xticklabels(private_planes['make'].value_counts().index[:20], rotation=-45, ha='left');\n",
    "plt.show()\n",
    "\n",
    "#Showing fatalities by Airplane Make\n",
    "fatalities=private_planes.groupby('make')['total_fatal_injuries'].sum().sort_values(ascending=False)\n",
    "fig, ax=plt.subplots(figsize=(16,9))\n",
    "sns.set_style('darkgrid')\n",
    "f=sns.barplot(data=private_planes, x=fatalities.index[:20], y=fatalities.values[:20])\n",
    "f.set_title('Fatalities by Airplane Make', fontsize=15)\n",
    "f.set_xlabel('Make', fontsize=15)\n",
    "f.set_ylabel('Fatalities', fontsize=15)\n",
    "f.set_xticklabels(fatalities.index[:20], rotation=-45, ha='left');\n",
    "plt.show()\n",
    "\n",
    "\n",
    "#Creating a figure showing investigation frequnecy by Airplane Model\n",
    "fig, ax=plt.subplots(figsize=(16,9))\n",
    "sns.set_style('darkgrid')\n",
    "makes=sns.barplot(data=private_planes, x=private_planes['model'].value_counts().index[:20], y=private_planes['model'].value_counts().values[:20])\n",
    "makes.set_title('20 Most Frequent Airplane Models Found in Accidents', fontsize=15)\n",
    "makes.set_xlabel('Model', fontsize=15)\n",
    "makes.set_ylabel('Number of Occurrences', fontsize=15)\n",
    "makes.set_xticklabels(private_planes['model'].value_counts().index[:20], rotation=-45, ha='center');\n",
    "plt.show()\n",
    "\n",
    "#Showing fatalities by Airplane Model\n",
    "fatalities=private_planes.groupby('model')['total_fatal_injuries'].sum().sort_values(ascending=False)\n",
    "fig, ax=plt.subplots(figsize=(16,9))\n",
    "sns.set_style('darkgrid')\n",
    "f=sns.barplot(data=private_planes, x=fatalities.index[:20], y=fatalities.values[:20])\n",
    "f.set_title('Fatalities by Airplane Model', fontsize=15)\n",
    "f.set_xlabel('Model', fontsize=15)\n",
    "f.set_ylabel('Fatalities', fontsize=15)\n",
    "f.set_xticklabels(fatalities.index[:20], rotation=-45, ha='left');\n",
    "plt.show()"
   ]
  },
  {
   "attachments": {},
   "cell_type": "markdown",
   "metadata": {},
   "source": [
    "# **Commerical Plane Analysis**\n",
    "\n",
    "---"
   ]
  },
  {
   "cell_type": "code",
   "execution_count": null,
   "metadata": {},
   "outputs": [],
   "source": []
  },
  {
   "attachments": {},
   "cell_type": "markdown",
   "metadata": {},
   "source": [
    "# **Location of Operation Analysis**\n",
    "\n",
    "---"
   ]
  },
  {
   "cell_type": "code",
   "execution_count": null,
   "metadata": {},
   "outputs": [],
   "source": []
  }
 ],
 "metadata": {
  "kernelspec": {
   "display_name": "learn-env",
   "language": "python",
   "name": "python3"
  },
  "language_info": {
   "codemirror_mode": {
    "name": "ipython",
    "version": 3
   },
   "file_extension": ".py",
   "mimetype": "text/x-python",
   "name": "python",
   "nbconvert_exporter": "python",
   "pygments_lexer": "ipython3",
   "version": "3.8.5"
  }
 },
 "nbformat": 4,
 "nbformat_minor": 4
}
