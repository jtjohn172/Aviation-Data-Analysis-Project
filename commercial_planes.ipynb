{
 "cells": [
  {
   "attachments": {},
   "cell_type": "markdown",
   "metadata": {
    "id": "R60O60Iioxuy"
   },
   "source": [
    "# **Importing Packages**\n",
    "\n",
    "---"
   ]
  },
  {
   "cell_type": "code",
   "execution_count": 2,
   "metadata": {
    "executionInfo": {
     "elapsed": 157,
     "status": "ok",
     "timestamp": 1685212133973,
     "user": {
      "displayName": "Jordan Johnson",
      "userId": "04349862984293932567"
     },
     "user_tz": 240
    },
    "id": "_qzloNYjPqgs"
   },
   "outputs": [],
   "source": [
    "import pandas as pd\n",
    "import seaborn as sb\n",
    "import numpy as np\n",
    "import matplotlib.pyplot as plt"
   ]
  },
  {
   "attachments": {},
   "cell_type": "markdown",
   "metadata": {
    "id": "f2NdBJDjo6-k"
   },
   "source": [
    "# **Importing Project Data**\n",
    "\n",
    "---"
   ]
  },
  {
   "attachments": {},
   "cell_type": "markdown",
   "metadata": {
    "id": "-lH9IZ1hnZwk"
   },
   "source": [
    "Importing Avaiation_Data.csv:"
   ]
  },
  {
   "cell_type": "code",
   "execution_count": 3,
   "metadata": {
    "executionInfo": {
     "elapsed": 1146,
     "status": "ok",
     "timestamp": 1685212136302,
     "user": {
      "displayName": "Jordan Johnson",
      "userId": "04349862984293932567"
     },
     "user_tz": 240
    },
    "id": "4IMLUcKJP1Ap"
   },
   "outputs": [],
   "source": [
    "df = pd.read_csv('data/Aviation_Data.csv', low_memory=False)"
   ]
  },
  {
   "attachments": {},
   "cell_type": "markdown",
   "metadata": {
    "id": "jgVEvWjxsfMK"
   },
   "source": [
    "Identify **column names** and how many cells are **empty**:"
   ]
  },
  {
   "cell_type": "code",
   "execution_count": 4,
   "metadata": {
    "colab": {
     "base_uri": "https://localhost:8080/"
    },
    "executionInfo": {
     "elapsed": 472,
     "status": "ok",
     "timestamp": 1685212138852,
     "user": {
      "displayName": "Jordan Johnson",
      "userId": "04349862984293932567"
     },
     "user_tz": 240
    },
    "id": "4iB1uUS-sdmb",
    "outputId": "b15f8199-d270-4c8d-ea31-d8d28101e5bb"
   },
   "outputs": [
    {
     "data": {
      "text/plain": [
       "Schedule                  77766\n",
       "Air.carrier               73700\n",
       "FAR.Description           58325\n",
       "Aircraft.Category         58061\n",
       "Longitude                 55975\n",
       "Latitude                  55966\n",
       "Airport.Code              40099\n",
       "Airport.Name              37558\n",
       "Broad.phase.of.flight     28624\n",
       "Publication.Date          16689\n",
       "Total.Serious.Injuries    13969\n",
       "Total.Minor.Injuries      13392\n",
       "Total.Fatal.Injuries      12860\n",
       "Engine.Type                8536\n",
       "Report.Status              7840\n",
       "Purpose.of.flight          7651\n",
       "Number.of.Engines          7543\n",
       "Total.Uninjured            7371\n",
       "Weather.Condition          5951\n",
       "Aircraft.damage            4653\n",
       "Registration.Number        2776\n",
       "Injury.Severity            2459\n",
       "Country                    1685\n",
       "Amateur.Built              1561\n",
       "Model                      1551\n",
       "Make                       1522\n",
       "Location                   1511\n",
       "Event.Date                 1459\n",
       "Accident.Number            1459\n",
       "Event.Id                   1459\n",
       "Investigation.Type            0\n",
       "dtype: int64"
      ]
     },
     "execution_count": 4,
     "metadata": {},
     "output_type": "execute_result"
    }
   ],
   "source": [
    "df.isna().sum().sort_values(ascending=False)"
   ]
  },
  {
   "attachments": {},
   "cell_type": "markdown",
   "metadata": {
    "id": "mUlGCp3kpyF5"
   },
   "source": [
    "# **Cleaning Data**\n",
    "\n",
    "---"
   ]
  },
  {
   "attachments": {},
   "cell_type": "markdown",
   "metadata": {
    "id": "SspAt5vPn5aj"
   },
   "source": [
    "Adjusts all columns titles to lower-case + replaces the \" . \" with \" _ \":"
   ]
  },
  {
   "cell_type": "code",
   "execution_count": 5,
   "metadata": {
    "executionInfo": {
     "elapsed": 200,
     "status": "ok",
     "timestamp": 1685212141209,
     "user": {
      "displayName": "Jordan Johnson",
      "userId": "04349862984293932567"
     },
     "user_tz": 240
    },
    "id": "fS72hDd2n4mh"
   },
   "outputs": [],
   "source": [
    "df = df.rename(columns={c: c.lower().replace('.', '_') for c in df.columns})"
   ]
  },
  {
   "attachments": {},
   "cell_type": "markdown",
   "metadata": {
    "id": "VtFe2sYYohlw"
   },
   "source": [
    "Selecting all of the columns needed and using the same Data Frame name 'df':"
   ]
  },
  {
   "cell_type": "code",
   "execution_count": 6,
   "metadata": {
    "executionInfo": {
     "elapsed": 289,
     "status": "ok",
     "timestamp": 1685212143462,
     "user": {
      "displayName": "Jordan Johnson",
      "userId": "04349862984293932567"
     },
     "user_tz": 240
    },
    "id": "LRRpYBaiP97W"
   },
   "outputs": [],
   "source": [
    "df = df[['location','investigation_type','event_date','country','injury_severity','aircraft_damage','aircraft_category','make', 'model','number_of_engines', 'engine_type', 'air_carrier', 'total_fatal_injuries', 'total_uninjured', 'total_serious_injuries', 'total_minor_injuries','weather_condition', 'airport_code', 'airport_name', 'latitude','longitude', 'amateur_built']]\n",
    "\n"
   ]
  },
  {
   "attachments": {},
   "cell_type": "markdown",
   "metadata": {
    "id": "Qd_Dp-rWweIi"
   },
   "source": [
    "Clean country to make lowercase + Refining to **'United States'**:"
   ]
  },
  {
   "cell_type": "code",
   "execution_count": 7,
   "metadata": {
    "executionInfo": {
     "elapsed": 220,
     "status": "ok",
     "timestamp": 1685212149015,
     "user": {
      "displayName": "Jordan Johnson",
      "userId": "04349862984293932567"
     },
     "user_tz": 240
    },
    "id": "nTOyxR92wdRA"
   },
   "outputs": [],
   "source": [
    "df['country'] = df['country'].str.lower()"
   ]
  },
  {
   "cell_type": "code",
   "execution_count": 8,
   "metadata": {
    "executionInfo": {
     "elapsed": 2,
     "status": "ok",
     "timestamp": 1685212149556,
     "user": {
      "displayName": "Jordan Johnson",
      "userId": "04349862984293932567"
     },
     "user_tz": 240
    },
    "id": "JatzQ45z0Bis"
   },
   "outputs": [],
   "source": [
    "df = df[df['country'] == 'united states']"
   ]
  },
  {
   "attachments": {},
   "cell_type": "markdown",
   "metadata": {
    "id": "i4zXmOYmsvES"
   },
   "source": [
    "Cleaning '**location**' + adding '**state**' column:"
   ]
  },
  {
   "cell_type": "code",
   "execution_count": 9,
   "metadata": {
    "executionInfo": {
     "elapsed": 187,
     "status": "ok",
     "timestamp": 1685212150564,
     "user": {
      "displayName": "Jordan Johnson",
      "userId": "04349862984293932567"
     },
     "user_tz": 240
    },
    "id": "8GY-eDlPs1FT"
   },
   "outputs": [],
   "source": [
    "df['location'] = df['location'].str.lower()\n",
    "df['state'] = df['location'].str[-2:]\n",
    "df.dropna(subset=['location'], inplace=True)"
   ]
  },
  {
   "attachments": {},
   "cell_type": "markdown",
   "metadata": {
    "id": "00kHCCVxyxPl"
   },
   "source": [
    "show 'states' list:"
   ]
  },
  {
   "cell_type": "code",
   "execution_count": 10,
   "metadata": {
    "colab": {
     "base_uri": "https://localhost:8080/"
    },
    "executionInfo": {
     "elapsed": 3,
     "status": "ok",
     "timestamp": 1685212150778,
     "user": {
      "displayName": "Jordan Johnson",
      "userId": "04349862984293932567"
     },
     "user_tz": 240
    },
    "id": "07ggd1tqrHxZ",
    "outputId": "5d6083da-e39e-4dd6-9a76-5dfc53aaa3c8",
    "scrolled": true
   },
   "outputs": [
    {
     "data": {
      "text/plain": [
       "[('ca', 8857),\n",
       " ('tx', 5913),\n",
       " ('fl', 5825),\n",
       " ('ak', 5672),\n",
       " ('az', 2834),\n",
       " ('co', 2726),\n",
       " ('wa', 2613),\n",
       " ('il', 2060),\n",
       " ('mi', 2030),\n",
       " ('ga', 2023),\n",
       " ('ny', 1915),\n",
       " ('oh', 1823),\n",
       " ('pa', 1790),\n",
       " ('or', 1772),\n",
       " ('nc', 1661),\n",
       " ('mo', 1565),\n",
       " ('wi', 1560),\n",
       " ('ar', 1519),\n",
       " ('mn', 1456),\n",
       " ('id', 1436),\n",
       " ('nm', 1358),\n",
       " ('ut', 1336),\n",
       " ('in', 1320),\n",
       " ('va', 1275),\n",
       " ('ok', 1240),\n",
       " ('nv', 1236),\n",
       " ('la', 1216),\n",
       " ('nj', 1170),\n",
       " ('al', 1153),\n",
       " ('tn', 1108),\n",
       " ('ks', 1104),\n",
       " ('mt', 1050),\n",
       " ('sc', 974),\n",
       " ('ma', 969),\n",
       " ('ia', 819),\n",
       " ('md', 815),\n",
       " ('ms', 813),\n",
       " ('wy', 739),\n",
       " ('ne', 725),\n",
       " ('ky', 650),\n",
       " ('nd', 561),\n",
       " ('me', 505),\n",
       " ('ct', 502),\n",
       " ('hi', 499),\n",
       " ('sd', 446),\n",
       " ('wv', 394),\n",
       " ('nh', 368),\n",
       " ('vt', 241),\n",
       " ('ri', 158),\n",
       " ('de', 114),\n",
       " ('pr', 114),\n",
       " ('gm', 44),\n",
       " ('dc', 42),\n",
       " ('of', 17),\n",
       " ('ao', 17),\n",
       " ('n,', 15),\n",
       " ('po', 14),\n",
       " ('o,', 12),\n",
       " ('a,', 8),\n",
       " ('gu', 8),\n",
       " ('vi', 6),\n",
       " ('g,', 5),\n",
       " ('x,', 3),\n",
       " (',', 3),\n",
       " ('9,', 3),\n",
       " ('un', 3),\n",
       " ('e,', 3),\n",
       " ('d,', 2),\n",
       " ('c,', 1),\n",
       " ('i,', 1),\n",
       " ('h,', 1),\n",
       " ('y,', 1),\n",
       " ('cb', 1),\n",
       " ('7,', 1),\n",
       " ('l,', 1),\n",
       " ('m,', 1),\n",
       " ('s,', 1),\n",
       " ('8,', 1)]"
      ]
     },
     "execution_count": 10,
     "metadata": {},
     "output_type": "execute_result"
    }
   ],
   "source": [
    "list(df['state'].value_counts().items())"
   ]
  },
  {
   "attachments": {},
   "cell_type": "markdown",
   "metadata": {
    "id": "O86CIjef0slu"
   },
   "source": [
    "(2) **Investigation_Type**:"
   ]
  },
  {
   "cell_type": "code",
   "execution_count": 11,
   "metadata": {
    "colab": {
     "base_uri": "https://localhost:8080/"
    },
    "executionInfo": {
     "elapsed": 3,
     "status": "ok",
     "timestamp": 1685212151254,
     "user": {
      "displayName": "Jordan Johnson",
      "userId": "04349862984293932567"
     },
     "user_tz": 240
    },
    "id": "9A2POFpS0ipO",
    "outputId": "69b44490-3db7-4cbe-9ec4-e1872ae43d01"
   },
   "outputs": [
    {
     "name": "stdout",
     "output_type": "stream",
     "text": [
      "Accidents: 79895\n",
      "Incidents: 2342\n"
     ]
    }
   ],
   "source": [
    "print(f\"Accidents: {df['investigation_type'].value_counts()['Accident']}\")\n",
    "print(f\"Incidents: {df['investigation_type'].value_counts()['Incident']}\")\n",
    "# What is the difference????"
   ]
  },
  {
   "attachments": {},
   "cell_type": "markdown",
   "metadata": {
    "id": "mjkaoggs2YS-"
   },
   "source": [
    "Filtering '**Event_date**' to 2001-11-19 and greater: "
   ]
  },
  {
   "cell_type": "code",
   "execution_count": 12,
   "metadata": {
    "executionInfo": {
     "elapsed": 2,
     "status": "ok",
     "timestamp": 1685212151504,
     "user": {
      "displayName": "Jordan Johnson",
      "userId": "04349862984293932567"
     },
     "user_tz": 240
    },
    "id": "Fm6cxd012Q18"
   },
   "outputs": [],
   "source": [
    "df = df[df['event_date'] >= '2001-11-19']"
   ]
  },
  {
   "attachments": {},
   "cell_type": "markdown",
   "metadata": {
    "id": "MhDjnwq-3vvJ"
   },
   "source": [
    "Examining '**injury_severity**' data: "
   ]
  },
  {
   "cell_type": "code",
   "execution_count": 13,
   "metadata": {
    "colab": {
     "base_uri": "https://localhost:8080/"
    },
    "executionInfo": {
     "elapsed": 2,
     "status": "ok",
     "timestamp": 1685212151697,
     "user": {
      "displayName": "Jordan Johnson",
      "userId": "04349862984293932567"
     },
     "user_tz": 240
    },
    "id": "PE7CxwDZ38sq",
    "outputId": "f54acc67-aaef-4e95-b797-7910e66412fd"
   },
   "outputs": [
    {
     "data": {
      "text/plain": [
       "Non-Fatal    25564\n",
       "Fatal         3556\n",
       "Fatal(1)      1096\n",
       "Fatal(2)       629\n",
       "Incident       334\n",
       "Minor          203\n",
       "Fatal(3)       191\n",
       "Serious        153\n",
       "Fatal(4)        99\n",
       "Fatal(5)        39\n",
       "Fatal(6)        10\n",
       "Fatal(7)         3\n",
       "Fatal(8)         2\n",
       "Fatal(10)        2\n",
       "Fatal(49)        1\n",
       "Fatal(20)        1\n",
       "Fatal(13)        1\n",
       "Fatal(21)        1\n",
       "Name: injury_severity, dtype: int64"
      ]
     },
     "execution_count": 13,
     "metadata": {},
     "output_type": "execute_result"
    }
   ],
   "source": [
    "df['injury_severity'].value_counts()\n",
    "\n",
    "# Not sure what minor/incident/'49' means..."
   ]
  },
  {
   "attachments": {},
   "cell_type": "markdown",
   "metadata": {
    "id": "FcRXM4sV5gCl"
   },
   "source": [
    "Examining '**aircraft_damage**' data:"
   ]
  },
  {
   "cell_type": "code",
   "execution_count": 14,
   "metadata": {
    "colab": {
     "base_uri": "https://localhost:8080/"
    },
    "executionInfo": {
     "elapsed": 2,
     "status": "ok",
     "timestamp": 1685212151920,
     "user": {
      "displayName": "Jordan Johnson",
      "userId": "04349862984293932567"
     },
     "user_tz": 240
    },
    "id": "Qa7zTvIP5mFu",
    "outputId": "5270b56e-59b7-47af-f894-925b1b1181c2"
   },
   "outputs": [
    {
     "data": {
      "text/plain": [
       "Substantial    26826\n",
       "Destroyed       3530\n",
       "Minor            717\n",
       "Unknown           50\n",
       "Name: aircraft_damage, dtype: int64"
      ]
     },
     "execution_count": 14,
     "metadata": {},
     "output_type": "execute_result"
    }
   ],
   "source": [
    "df['aircraft_damage'].value_counts()\n",
    "\n",
    "# Posibly combine all of these? Why does the breakdown matter?"
   ]
  },
  {
   "attachments": {},
   "cell_type": "markdown",
   "metadata": {
    "id": "56ZQf4jA6DbH"
   },
   "source": [
    "Examining '**aircraft_category**' data + refine to **airplanes** only:"
   ]
  },
  {
   "cell_type": "code",
   "execution_count": 36,
   "metadata": {
    "colab": {
     "base_uri": "https://localhost:8080/"
    },
    "executionInfo": {
     "elapsed": 280,
     "status": "ok",
     "timestamp": 1685212152570,
     "user": {
      "displayName": "Jordan Johnson",
      "userId": "04349862984293932567"
     },
     "user_tz": 240
    },
    "id": "EFr3VLIx6JTL",
    "outputId": "2ecfcf62-58bc-4650-adf5-b9b3d1992f70",
    "scrolled": true
   },
   "outputs": [
    {
     "name": "stdout",
     "output_type": "stream",
     "text": [
      "1.\n",
      "** 0 empty cells in this column\n",
      "\n",
      "\n",
      "2.\n",
      "Airplane    17980\n",
      "Name: aircraft_category, dtype: int64\n"
     ]
    }
   ],
   "source": [
    "print('1.')\n",
    "print(f\"** {df['aircraft_category'].isna().sum()} empty cells in this column\") # 7625 empy cells\n",
    "print()\n",
    "df = df[df['aircraft_category'] == 'Airplane']\n",
    "print()\n",
    "print('2.')\n",
    "print(df['aircraft_category'].value_counts())\n"
   ]
  },
  {
   "attachments": {},
   "cell_type": "markdown",
   "metadata": {
    "id": "60FtIQzn7tK1"
   },
   "source": [
    "Examining '**number_of_engines**' data: "
   ]
  },
  {
   "cell_type": "code",
   "execution_count": 37,
   "metadata": {
    "colab": {
     "base_uri": "https://localhost:8080/"
    },
    "executionInfo": {
     "elapsed": 4,
     "status": "ok",
     "timestamp": 1685212152779,
     "user": {
      "displayName": "Jordan Johnson",
      "userId": "04349862984293932567"
     },
     "user_tz": 240
    },
    "id": "SSDqmVTe7hDj",
    "outputId": "23c5e2ba-2e3b-4a87-d863-61ae40115d96",
    "scrolled": true
   },
   "outputs": [
    {
     "name": "stdout",
     "output_type": "stream",
     "text": [
      "1)\n",
      "** 482 empty cells in this column\n",
      "\n",
      "\n",
      "\n",
      "2)\n",
      "1.0    15108\n",
      "2.0     2327\n",
      "4.0       38\n",
      "3.0       20\n",
      "0.0        3\n",
      "6.0        1\n",
      "8.0        1\n",
      "Name: number_of_engines, dtype: int64\n"
     ]
    }
   ],
   "source": [
    "print('1)')\n",
    "print(f\"** {df['number_of_engines'].isna().sum()} empty cells in this column\") # 1053 empy cells\n",
    "print()\n",
    "print()\n",
    "print()\n",
    "print('2)')\n",
    "print(df['number_of_engines'].value_counts())"
   ]
  },
  {
   "attachments": {},
   "cell_type": "markdown",
   "metadata": {
    "id": "-YjlCCu69nU4"
   },
   "source": [
    "Cleaning '**make' & 'model**':"
   ]
  },
  {
   "cell_type": "code",
   "execution_count": 38,
   "metadata": {
    "colab": {
     "base_uri": "https://localhost:8080/"
    },
    "executionInfo": {
     "elapsed": 5,
     "status": "ok",
     "timestamp": 1685212153353,
     "user": {
      "displayName": "Jordan Johnson",
      "userId": "04349862984293932567"
     },
     "user_tz": 240
    },
    "id": "Y6tFaEFL9msg",
    "outputId": "cf960550-0eae-4aff-9446-9c53c17d1afc"
   },
   "outputs": [
    {
     "data": {
      "text/plain": [
       "cessna                          6348\n",
       "piper                           3576\n",
       "beech                           1252\n",
       "boeing                           397\n",
       "mooney                           336\n",
       "                                ... \n",
       "medway                             1\n",
       "storch                             1\n",
       "brewster fleet                     1\n",
       "paradise aircraft usa llc          1\n",
       "north american aviation div.       1\n",
       "Name: make, Length: 973, dtype: int64"
      ]
     },
     "execution_count": 38,
     "metadata": {},
     "output_type": "execute_result"
    }
   ],
   "source": [
    "## make\n",
    "df['make'] = df['make'].str.lower()\n",
    "df['make'].value_counts(ascending=False) \n"
   ]
  },
  {
   "cell_type": "code",
   "execution_count": 39,
   "metadata": {
    "colab": {
     "base_uri": "https://localhost:8080/"
    },
    "executionInfo": {
     "elapsed": 13,
     "status": "ok",
     "timestamp": 1685212153633,
     "user": {
      "displayName": "Jordan Johnson",
      "userId": "04349862984293932567"
     },
     "user_tz": 240
    },
    "id": "A-YbKqve_yXT",
    "outputId": "c1fc8e7e-f409-4d84-93cb-94d0687bcbd6"
   },
   "outputs": [
    {
     "data": {
      "text/plain": [
       "0"
      ]
     },
     "execution_count": 39,
     "metadata": {},
     "output_type": "execute_result"
    }
   ],
   "source": [
    "# dropping 13 missing items:\n",
    "df.dropna(subset=['make'], inplace=True)\n",
    "\n",
    "df['make'].isna().sum()"
   ]
  },
  {
   "cell_type": "code",
   "execution_count": 40,
   "metadata": {
    "colab": {
     "base_uri": "https://localhost:8080/"
    },
    "executionInfo": {
     "elapsed": 9,
     "status": "ok",
     "timestamp": 1685212153633,
     "user": {
      "displayName": "Jordan Johnson",
      "userId": "04349862984293932567"
     },
     "user_tz": 240
    },
    "id": "4I_lpW_d_GZ-",
    "outputId": "0cabfdfc-7c59-4b6f-9a1d-c488918fc76c",
    "scrolled": true
   },
   "outputs": [
    {
     "data": {
      "text/plain": [
       "172             674\n",
       "152             290\n",
       "172s            273\n",
       "182             243\n",
       "172n            237\n",
       "               ... \n",
       "sbach 342         1\n",
       "737 7l9           1\n",
       "m-18b             1\n",
       "sportstar sl      1\n",
       "pt 17             1\n",
       "Name: model, Length: 2866, dtype: int64"
      ]
     },
     "execution_count": 40,
     "metadata": {},
     "output_type": "execute_result"
    }
   ],
   "source": [
    "## model \n",
    "df['model'] = df['model'].str.lower()\n",
    "df['model'].value_counts(ascending=False)\n"
   ]
  },
  {
   "cell_type": "code",
   "execution_count": 41,
   "metadata": {
    "colab": {
     "base_uri": "https://localhost:8080/"
    },
    "executionInfo": {
     "elapsed": 6,
     "status": "ok",
     "timestamp": 1685212153908,
     "user": {
      "displayName": "Jordan Johnson",
      "userId": "04349862984293932567"
     },
     "user_tz": 240
    },
    "id": "RN_4F06nAFsH",
    "outputId": "1e14e492-5d67-4859-d33e-114e88255805"
   },
   "outputs": [
    {
     "data": {
      "text/plain": [
       "0"
      ]
     },
     "execution_count": 41,
     "metadata": {},
     "output_type": "execute_result"
    }
   ],
   "source": [
    "# dropping 15 missing items:\n",
    "df.dropna(subset=['model'], inplace=True)\n",
    "\n",
    "df['model'].isna().sum()"
   ]
  },
  {
   "attachments": {},
   "cell_type": "markdown",
   "metadata": {
    "id": "OEG2oXhuXEv5"
   },
   "source": [
    "Visualizing the top 30 Makes & Models:"
   ]
  },
  {
   "cell_type": "code",
   "execution_count": 42,
   "metadata": {
    "colab": {
     "base_uri": "https://localhost:8080/",
     "height": 1000
    },
    "executionInfo": {
     "elapsed": 1294,
     "status": "ok",
     "timestamp": 1685212155199,
     "user": {
      "displayName": "Jordan Johnson",
      "userId": "04349862984293932567"
     },
     "user_tz": 240
    },
    "id": "BZoXlmCGBqJo",
    "outputId": "81b49c62-f60e-48a8-8457-c7feebc9d156"
   },
   "outputs": [
    {
     "data": {
      "image/png": "[encoded data removed]",
      "text/plain": [
       "<Figure size 432x288 with 1 Axes>"
      ]
     },
     "metadata": {
      "needs_background": "light"
     },
     "output_type": "display_data"
    },
    {
     "data": {
      "image/png": "[encoded data removed]",
      "text/plain": [
       "<Figure size 432x288 with 1 Axes>"
      ]
     },
     "metadata": {
      "needs_background": "light"
     },
     "output_type": "display_data"
    }
   ],
   "source": [
    "df['make'].value_counts().head(30).plot(kind='bar')\n",
    "plt.xlabel('Make')\n",
    "plt.ylabel('Count')\n",
    "plt.title('Top 20 Airplane Makes')\n",
    "plt.show()  # This will display the plot\n",
    "\n",
    "df['model'].value_counts().head(30).plot(kind='bar')\n",
    "plt.xlabel('Model')\n",
    "plt.ylabel('Count')\n",
    "plt.title('Top 20 Airplane Models')\n",
    "plt.show()  # This will display the plot\n"
   ]
  },
  {
   "attachments": {},
   "cell_type": "markdown",
   "metadata": {
    "id": "pzWBkm3dXK6K"
   },
   "source": [
    "Visualizing the number of accidents and Incidents:"
   ]
  },
  {
   "cell_type": "code",
   "execution_count": 43,
   "metadata": {
    "colab": {
     "base_uri": "https://localhost:8080/",
     "height": 753
    },
    "executionInfo": {
     "elapsed": 746,
     "status": "ok",
     "timestamp": 1685212156287,
     "user": {
      "displayName": "Jordan Johnson",
      "userId": "04349862984293932567"
     },
     "user_tz": 240
    },
    "id": "_mDfA7OXUrTs",
    "outputId": "a067a4ee-dcde-4088-9fc1-80280291d32b"
   },
   "outputs": [
    {
     "data": {
      "image/png": "[encoded data removed]",
      "text/plain": [
       "<Figure size 720x432 with 1 Axes>"
      ]
     },
     "metadata": {
      "needs_background": "light"
     },
     "output_type": "display_data"
    }
   ],
   "source": [
    "accidents_df = df[df['investigation_type'] == 'Accident']\n",
    "\n",
    "# Get the counts of each 'make'\n",
    "counts = accidents_df['make'].value_counts().head(20)\n",
    "\n",
    "# Get the categories (makes) and their corresponding accident counts\n",
    "categories = counts.index\n",
    "accidents = counts.values\n",
    "\n",
    "fig, ax = plt.subplots(figsize=(10,6))\n",
    "ax.bar(categories, accidents)\n",
    "plt.xticks(rotation=90)  # Rotate x-axis labels for better visibility\n",
    "plt.xlabel('Aircraft Make')\n",
    "plt.ylabel('Number of Accidents')\n",
    "plt.title('Number of Accidents by Aircraft Make')\n",
    "plt.show()\n",
    "\n"
   ]
  },
  {
   "cell_type": "code",
   "execution_count": 44,
   "metadata": {
    "colab": {
     "base_uri": "https://localhost:8080/",
     "height": 736
    },
    "executionInfo": {
     "elapsed": 388,
     "status": "ok",
     "timestamp": 1685212156855,
     "user": {
      "displayName": "Jordan Johnson",
      "userId": "04349862984293932567"
     },
     "user_tz": 240
    },
    "id": "KWebixgDXRpM",
    "outputId": "ba84af08-e358-4407-b0b9-e1164891e79a"
   },
   "outputs": [
    {
     "data": {
      "image/png": "[encoded data removed]",
      "text/plain": [
       "<Figure size 720x432 with 1 Axes>"
      ]
     },
     "metadata": {
      "needs_background": "light"
     },
     "output_type": "display_data"
    }
   ],
   "source": [
    "# Filter rows that have 'Incident' in the 'investigation_type' column\n",
    "incidents_df = df[df['investigation_type'] == 'Incident']\n",
    "\n",
    "# Get the counts of each 'make'\n",
    "counts = incidents_df['make'].value_counts().head(20)\n",
    "\n",
    "# Get the categories (makes) and their corresponding incident counts\n",
    "categories = counts.index\n",
    "incidents = counts.values\n",
    "\n",
    "fig, ax = plt.subplots(figsize=(10,6))\n",
    "ax.bar(categories, incidents)\n",
    "plt.xticks(rotation=90)  # Rotate x-axis labels for better visibility\n",
    "plt.xlabel('Aircraft Make')\n",
    "plt.ylabel('Number of Incidents')\n",
    "plt.title('Number of Incidents by Aircraft Make')\n",
    "plt.show()"
   ]
  },
  {
   "attachments": {},
   "cell_type": "markdown",
   "metadata": {
    "id": "QDEJeZkTZA0F"
   },
   "source": [
    "Cleaning format of values + Filter Out '**amateur_built**' values:"
   ]
  },
  {
   "cell_type": "code",
   "execution_count": 45,
   "metadata": {
    "executionInfo": {
     "elapsed": 9,
     "status": "ok",
     "timestamp": 1685212156855,
     "user": {
      "displayName": "Jordan Johnson",
      "userId": "04349862984293932567"
     },
     "user_tz": 240
    },
    "id": "dDLlNOX1ZUmc"
   },
   "outputs": [],
   "source": [
    "df['amateur_built'] = df['amateur_built'].str.lower()\n",
    "df = df[df['amateur_built'] == 'no']"
   ]
  },
  {
   "cell_type": "code",
   "execution_count": 46,
   "metadata": {
    "colab": {
     "base_uri": "https://localhost:8080/"
    },
    "executionInfo": {
     "elapsed": 246,
     "status": "ok",
     "timestamp": 1685212157094,
     "user": {
      "displayName": "Jordan Johnson",
      "userId": "04349862984293932567"
     },
     "user_tz": 240
    },
    "id": "3oisWyamaTnu",
    "outputId": "f2508926-5b6f-4f59-9d4d-f21b0a28f11f"
   },
   "outputs": [
    {
     "data": {
      "text/plain": [
       "air_carrier               9356\n",
       "airport_code              4776\n",
       "airport_name              4774\n",
       "total_fatal_injuries      2473\n",
       "total_serious_injuries    2423\n",
       "total_minor_injuries      2137\n",
       "engine_type               1647\n",
       "number_of_engines          482\n",
       "total_uninjured            466\n",
       "weather_condition          425\n",
       "aircraft_damage            423\n",
       "injury_severity             81\n",
       "longitude                   62\n",
       "latitude                    55\n",
       "investigation_type           0\n",
       "event_date                   0\n",
       "country                      0\n",
       "state                        0\n",
       "aircraft_category            0\n",
       "make                         0\n",
       "model                        0\n",
       "amateur_built                0\n",
       "location                     0\n",
       "dtype: int64"
      ]
     },
     "execution_count": 46,
     "metadata": {},
     "output_type": "execute_result"
    }
   ],
   "source": [
    "df.isna().sum().sort_values(ascending=False)"
   ]
  },
  {
   "attachments": {},
   "cell_type": "markdown",
   "metadata": {
    "id": "RhvdcllEhhL9"
   },
   "source": [
    "# **Refining to Commercial Planes Only**"
   ]
  },
  {
   "attachments": {},
   "cell_type": "markdown",
   "metadata": {
    "id": "6ecDTS3hh784"
   },
   "source": [
    "Identifying which **engine_type** is used for commercial planes and filtering accordingly:"
   ]
  },
  {
   "attachments": {},
   "cell_type": "markdown",
   "metadata": {},
   "source": [
    "Only using **Reciprocating** and **Turbo Fan**:"
   ]
  },
  {
   "cell_type": "code",
   "execution_count": 74,
   "metadata": {
    "colab": {
     "base_uri": "https://localhost:8080/"
    },
    "executionInfo": {
     "elapsed": 3,
     "status": "ok",
     "timestamp": 1685212879738,
     "user": {
      "displayName": "Jordan Johnson",
      "userId": "04349862984293932567"
     },
     "user_tz": 240
    },
    "id": "rPAKlHUpgySL",
    "outputId": "7fd297f7-adc5-4fbd-8d7c-dde8da0c38e1"
   },
   "outputs": [
    {
     "data": {
      "text/plain": [
       "Reciprocating    14453\n",
       "Turbo Fan          636\n",
       "Name: engine_type, dtype: int64"
      ]
     },
     "execution_count": 74,
     "metadata": {},
     "output_type": "execute_result"
    }
   ],
   "source": [
    "## Research:\n",
    "# Reciprocating = Yes; some are / aren't\n",
    "# Turbo Prop = No\n",
    "# Turbo Fan = Yes; some are / aren't\n",
    "# Delete: Unknown, Turbo Shaft, Electric, UNK\n",
    "\n",
    "\n",
    "df = df[(df['engine_type'] == 'Reciprocating') | (df['engine_type'] == 'Turbo Fan')]\n",
    "df['engine_type'].value_counts()\n"
   ]
  },
  {
   "cell_type": "code",
   "execution_count": null,
   "metadata": {},
   "outputs": [],
   "source": [
    "list(df['make'].value_counts().index)"
   ]
  },
  {
   "attachments": {},
   "cell_type": "markdown",
   "metadata": {},
   "source": [
    "Below is a list of the top commercial airplane manufacturers named **commercial_manufacturers**:"
   ]
  },
  {
   "cell_type": "code",
   "execution_count": 81,
   "metadata": {},
   "outputs": [],
   "source": [
    "commercial_manufacturers = [\n",
    "    \"airbus\",\n",
    "    \"boeing\",\n",
    "    \"bombardier\",\n",
    "    \"embraer\",\n",
    "    \"comac\",\n",
    "    \"atr\",\n",
    "    \"mcdonnell ouglas\",\n",
    "    \"mcdonnell\",\n",
    "    \"tupolev\",\n",
    "    \"ilyushin\",\n",
    "    \"sukhoi\"\n",
    "]\n",
    "\n",
    "\n"
   ]
  },
  {
   "cell_type": "code",
   "execution_count": 82,
   "metadata": {},
   "outputs": [
    {
     "data": {
      "text/plain": [
       "boeing        285\n",
       "airbus         55\n",
       "embraer        44\n",
       "bombardier     18\n",
       "sukhoi          2\n",
       "Name: make, dtype: int64"
      ]
     },
     "execution_count": 82,
     "metadata": {},
     "output_type": "execute_result"
    }
   ],
   "source": [
    "mask = df['make'].isin(commercial_manufacturers)\n",
    "filtered_df = df[mask]\n",
    "filtered_df['make'].value_counts()"
   ]
  },
  {
   "cell_type": "code",
   "execution_count": 83,
   "metadata": {
    "colab": {
     "base_uri": "https://localhost:8080/",
     "height": 404
    },
    "executionInfo": {
     "elapsed": 8,
     "status": "ok",
     "timestamp": 1685212157094,
     "user": {
      "displayName": "Jordan Johnson",
      "userId": "04349862984293932567"
     },
     "user_tz": 240
    },
    "id": "wP-UN9nY1UVE",
    "outputId": "955e26e0-99ac-43d8-fdee-99274291c49b",
    "scrolled": true
   },
   "outputs": [
    {
     "data": {
      "text/html": [
       "<div>\n",
       "<style scoped>\n",
       "    .dataframe tbody tr th:only-of-type {\n",
       "        vertical-align: middle;\n",
       "    }\n",
       "\n",
       "    .dataframe tbody tr th {\n",
       "        vertical-align: top;\n",
       "    }\n",
       "\n",
       "    .dataframe thead th {\n",
       "        text-align: right;\n",
       "    }\n",
       "</style>\n",
       "<table border=\"1\" class=\"dataframe\">\n",
       "  <thead>\n",
       "    <tr style=\"text-align: right;\">\n",
       "      <th></th>\n",
       "      <th>location</th>\n",
       "      <th>investigation_type</th>\n",
       "      <th>event_date</th>\n",
       "      <th>country</th>\n",
       "      <th>injury_severity</th>\n",
       "      <th>aircraft_damage</th>\n",
       "      <th>aircraft_category</th>\n",
       "      <th>make</th>\n",
       "      <th>model</th>\n",
       "      <th>number_of_engines</th>\n",
       "      <th>...</th>\n",
       "      <th>total_uninjured</th>\n",
       "      <th>total_serious_injuries</th>\n",
       "      <th>total_minor_injuries</th>\n",
       "      <th>weather_condition</th>\n",
       "      <th>airport_code</th>\n",
       "      <th>airport_name</th>\n",
       "      <th>latitude</th>\n",
       "      <th>longitude</th>\n",
       "      <th>amateur_built</th>\n",
       "      <th>state</th>\n",
       "    </tr>\n",
       "  </thead>\n",
       "  <tbody>\n",
       "    <tr>\n",
       "      <th>51955</th>\n",
       "      <td>milford, ct</td>\n",
       "      <td>Accident</td>\n",
       "      <td>2001-12-30</td>\n",
       "      <td>united states</td>\n",
       "      <td>Fatal(1)</td>\n",
       "      <td>Substantial</td>\n",
       "      <td>Airplane</td>\n",
       "      <td>piper</td>\n",
       "      <td>pa-28r-180</td>\n",
       "      <td>1.0</td>\n",
       "      <td>...</td>\n",
       "      <td>NaN</td>\n",
       "      <td>NaN</td>\n",
       "      <td>NaN</td>\n",
       "      <td>VMC</td>\n",
       "      <td>BDR</td>\n",
       "      <td>Igor I. Sikorsky Airport</td>\n",
       "      <td>41.182223</td>\n",
       "      <td>-73.026945</td>\n",
       "      <td>no</td>\n",
       "      <td>ct</td>\n",
       "    </tr>\n",
       "    <tr>\n",
       "      <th>52013</th>\n",
       "      <td>iraan, tx</td>\n",
       "      <td>Accident</td>\n",
       "      <td>2002-01-15</td>\n",
       "      <td>united states</td>\n",
       "      <td>Non-Fatal</td>\n",
       "      <td>Substantial</td>\n",
       "      <td>Airplane</td>\n",
       "      <td>cessna</td>\n",
       "      <td>172</td>\n",
       "      <td>1.0</td>\n",
       "      <td>...</td>\n",
       "      <td>1.0</td>\n",
       "      <td>NaN</td>\n",
       "      <td>NaN</td>\n",
       "      <td>VMC</td>\n",
       "      <td>2F0</td>\n",
       "      <td>Iraan Municipal Airport</td>\n",
       "      <td>30.905556</td>\n",
       "      <td>-101.891944</td>\n",
       "      <td>no</td>\n",
       "      <td>tx</td>\n",
       "    </tr>\n",
       "    <tr>\n",
       "      <th>52140</th>\n",
       "      <td>durango, co</td>\n",
       "      <td>Accident</td>\n",
       "      <td>2002-02-17</td>\n",
       "      <td>united states</td>\n",
       "      <td>Non-Fatal</td>\n",
       "      <td>Substantial</td>\n",
       "      <td>Airplane</td>\n",
       "      <td>cessna</td>\n",
       "      <td>172n</td>\n",
       "      <td>1.0</td>\n",
       "      <td>...</td>\n",
       "      <td>1.0</td>\n",
       "      <td>NaN</td>\n",
       "      <td>NaN</td>\n",
       "      <td>VMC</td>\n",
       "      <td>00C</td>\n",
       "      <td>Animas Air Park</td>\n",
       "      <td>NaN</td>\n",
       "      <td>NaN</td>\n",
       "      <td>no</td>\n",
       "      <td>co</td>\n",
       "    </tr>\n",
       "    <tr>\n",
       "      <th>52303</th>\n",
       "      <td>forrest city, ar</td>\n",
       "      <td>Accident</td>\n",
       "      <td>2002-03-24</td>\n",
       "      <td>united states</td>\n",
       "      <td>Non-Fatal</td>\n",
       "      <td>Substantial</td>\n",
       "      <td>Airplane</td>\n",
       "      <td>cessna</td>\n",
       "      <td>188</td>\n",
       "      <td>1.0</td>\n",
       "      <td>...</td>\n",
       "      <td>1.0</td>\n",
       "      <td>NaN</td>\n",
       "      <td>NaN</td>\n",
       "      <td>VMC</td>\n",
       "      <td>HEE</td>\n",
       "      <td>Thompson-Robbins</td>\n",
       "      <td>35.036666</td>\n",
       "      <td>-90.909444</td>\n",
       "      <td>no</td>\n",
       "      <td>ar</td>\n",
       "    </tr>\n",
       "    <tr>\n",
       "      <th>52361</th>\n",
       "      <td>mount holly, nj</td>\n",
       "      <td>Accident</td>\n",
       "      <td>2002-04-03</td>\n",
       "      <td>united states</td>\n",
       "      <td>Non-Fatal</td>\n",
       "      <td>Substantial</td>\n",
       "      <td>Airplane</td>\n",
       "      <td>cessna</td>\n",
       "      <td>t310r</td>\n",
       "      <td>2.0</td>\n",
       "      <td>...</td>\n",
       "      <td>NaN</td>\n",
       "      <td>1.0</td>\n",
       "      <td>1.0</td>\n",
       "      <td>VMC</td>\n",
       "      <td>VAY</td>\n",
       "      <td>SOUTH JERSEY RGNL</td>\n",
       "      <td>39.942777</td>\n",
       "      <td>-74.845555</td>\n",
       "      <td>no</td>\n",
       "      <td>nj</td>\n",
       "    </tr>\n",
       "  </tbody>\n",
       "</table>\n",
       "<p>5 rows × 23 columns</p>\n",
       "</div>"
      ],
      "text/plain": [
       "               location investigation_type  event_date        country  \\\n",
       "51955       milford, ct           Accident  2001-12-30  united states   \n",
       "52013         iraan, tx           Accident  2002-01-15  united states   \n",
       "52140       durango, co           Accident  2002-02-17  united states   \n",
       "52303  forrest city, ar           Accident  2002-03-24  united states   \n",
       "52361   mount holly, nj           Accident  2002-04-03  united states   \n",
       "\n",
       "      injury_severity aircraft_damage aircraft_category    make       model  \\\n",
       "51955        Fatal(1)     Substantial          Airplane   piper  pa-28r-180   \n",
       "52013       Non-Fatal     Substantial          Airplane  cessna         172   \n",
       "52140       Non-Fatal     Substantial          Airplane  cessna        172n   \n",
       "52303       Non-Fatal     Substantial          Airplane  cessna         188   \n",
       "52361       Non-Fatal     Substantial          Airplane  cessna       t310r   \n",
       "\n",
       "       number_of_engines  ... total_uninjured total_serious_injuries  \\\n",
       "51955                1.0  ...             NaN                    NaN   \n",
       "52013                1.0  ...             1.0                    NaN   \n",
       "52140                1.0  ...             1.0                    NaN   \n",
       "52303                1.0  ...             1.0                    NaN   \n",
       "52361                2.0  ...             NaN                    1.0   \n",
       "\n",
       "       total_minor_injuries  weather_condition  airport_code  \\\n",
       "51955                   NaN                VMC           BDR   \n",
       "52013                   NaN                VMC           2F0   \n",
       "52140                   NaN                VMC           00C   \n",
       "52303                   NaN                VMC           HEE   \n",
       "52361                   1.0                VMC           VAY   \n",
       "\n",
       "                   airport_name   latitude    longitude amateur_built state  \n",
       "51955  Igor I. Sikorsky Airport  41.182223   -73.026945            no    ct  \n",
       "52013   Iraan Municipal Airport  30.905556  -101.891944            no    tx  \n",
       "52140           Animas Air Park        NaN          NaN            no    co  \n",
       "52303          Thompson-Robbins  35.036666   -90.909444            no    ar  \n",
       "52361         SOUTH JERSEY RGNL  39.942777   -74.845555            no    nj  \n",
       "\n",
       "[5 rows x 23 columns]"
      ]
     },
     "execution_count": 83,
     "metadata": {},
     "output_type": "execute_result"
    }
   ],
   "source": [
    "df.head()"
   ]
  }
 ],
 "metadata": {
  "colab": {
   "authorship_tag": "ABX9TyNUWdV7r9IMEaJWe4UgxQd0",
   "provenance": []
  },
  "kernelspec": {
   "display_name": "Python 3",
   "language": "python",
   "name": "python3"
  },
  "language_info": {
   "codemirror_mode": {
    "name": "ipython",
    "version": 3
   },
   "file_extension": ".py",
   "mimetype": "text/x-python",
   "name": "python",
   "nbconvert_exporter": "python",
   "pygments_lexer": "ipython3",
   "version": "3.8.5"
  }
 },
 "nbformat": 4,
 "nbformat_minor": 1
}
